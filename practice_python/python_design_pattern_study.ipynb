{
 "cells": [
  {
   "cell_type": "markdown",
   "id": "f1bdcedc",
   "metadata": {},
   "source": [
    "https://www.fun-coding.org/PL&OOP2-2.html\n",
    "\n",
    "factory\n",
    "- factory method\n",
    "- abstract factory\n",
    "\n",
    "builder\n"
   ]
  },
  {
   "cell_type": "markdown",
   "id": "df9069dd",
   "metadata": {},
   "source": [
    "### Singleton -> "
   ]
  },
  {
   "cell_type": "code",
   "execution_count": 7,
   "id": "42b4f28b",
   "metadata": {},
   "outputs": [],
   "source": [
    "# 싱글톤 클래스 만들기\n",
    "class Singleton(type):\n",
    "    __instances = {}\n",
    "    def __call__(cls, *args, **kwargs):\n",
    "        if cls not in cls.__instances:\n",
    "            cls.__instances[cls] = super().__call__(*args, **kwargs)\n",
    "        return cls.__instances[cls]"
   ]
  },
  {
   "cell_type": "code",
   "execution_count": 12,
   "id": "e4c4183e",
   "metadata": {},
   "outputs": [],
   "source": [
    "class PrintObject(metaclass=Singleton):\n",
    "    def __init__(self):\n",
    "        print(\"This is called by super().__call__\")"
   ]
  },
  {
   "cell_type": "markdown",
   "id": "62368cb6",
   "metadata": {},
   "source": [
    "Q. class Singleton -> singletonclass  \n",
    "    class PrintObject -> metaclass is singleton"
   ]
  },
  {
   "cell_type": "code",
   "execution_count": 17,
   "id": "cd8f4da6",
   "metadata": {},
   "outputs": [],
   "source": [
    "object1 = PrintObject()\n",
    "object2 = PrintObject()\n",
    "assert object1 == object2"
   ]
  },
  {
   "cell_type": "markdown",
   "id": "fcb65b5e",
   "metadata": {},
   "source": [
    "#### Observer -> 진동벨"
   ]
  },
  {
   "cell_type": "code",
   "execution_count": 17,
   "id": "ebd0832e",
   "metadata": {},
   "outputs": [],
   "source": [
    "class Observer:\n",
    "    def __init__(self):\n",
    "        self.observers = list()\n",
    "        self.msg = str()\n",
    "        \n",
    "    def notify(self, event_data):\n",
    "        for observer in self.observers:\n",
    "            observer.notify(event_data)\n",
    "            \n",
    "    def register(self, observer):\n",
    "        self.observers.append(observer)\n",
    "        \n",
    "    def unregister(self, observer):\n",
    "        self.obervers.remove(observer)"
   ]
  },
  {
   "cell_type": "code",
   "execution_count": 18,
   "id": "3969f8e0",
   "metadata": {},
   "outputs": [],
   "source": [
    "class SMSNotifier:\n",
    "    def notify(self, event_data):\n",
    "        print(event_data, 'received..')\n",
    "        print('send sms')"
   ]
  },
  {
   "cell_type": "code",
   "execution_count": 19,
   "id": "186aaee2",
   "metadata": {},
   "outputs": [],
   "source": [
    "class EmailNotifier:\n",
    "    def notify(self, event_data):\n",
    "        print(event_data, 'received..')\n",
    "        print('send email')"
   ]
  },
  {
   "cell_type": "code",
   "execution_count": 20,
   "id": "cbcf4b36",
   "metadata": {},
   "outputs": [],
   "source": [
    "class PushNotifier:\n",
    "    def notify(self, event_data):\n",
    "        print(event_data, 'received..')\n",
    "        print('send push notification')"
   ]
  },
  {
   "cell_type": "code",
   "execution_count": 21,
   "id": "15d064bd",
   "metadata": {},
   "outputs": [
    {
     "name": "stdout",
     "output_type": "stream",
     "text": [
      "user activation event received..\n",
      "send sms\n",
      "user activation event received..\n",
      "send email\n",
      "user activation event received..\n",
      "send push notification\n"
     ]
    }
   ],
   "source": [
    "notifier = Observer()\n",
    "\n",
    "sms_notifier = SMSNotifier()\n",
    "email_notifier = EmailNotifier()\n",
    "push_notifier = PushNotifier()\n",
    "\n",
    "notifier.register(sms_notifier)\n",
    "notifier.register(email_notifier)\n",
    "notifier.register(push_notifier)\n",
    "\n",
    "notifier.notify('user activation event')"
   ]
  },
  {
   "cell_type": "markdown",
   "id": "99f92565",
   "metadata": {},
   "source": [
    "### Builder"
   ]
  },
  {
   "cell_type": "code",
   "execution_count": 22,
   "id": "57a2ce5a",
   "metadata": {},
   "outputs": [],
   "source": [
    "class Student(object):\n",
    "    def __init__(self, name, age=20, height=180, weight=60, major='cs'):\n",
    "        self.name = name\n",
    "        self.age = age\n",
    "        self.height = height\n",
    "        self.weight = weight\n",
    "        self.major = major"
   ]
  },
  {
   "cell_type": "code",
   "execution_count": 23,
   "id": "247735cf",
   "metadata": {},
   "outputs": [
    {
     "name": "stdout",
     "output_type": "stream",
     "text": [
      "Dave\n",
      "20\n",
      "180\n",
      "60\n",
      "cs\n"
     ]
    }
   ],
   "source": [
    "student1 = Student('Dave')\n",
    "print(student1.name)\n",
    "print(student1.age)\n",
    "print(student1.height)\n",
    "print(student1.weight)\n",
    "print(student1.major)"
   ]
  },
  {
   "cell_type": "markdown",
   "id": "8830de8e",
   "metadata": {},
   "source": [
    "### Factory"
   ]
  },
  {
   "cell_type": "code",
   "execution_count": 28,
   "id": "5cba804a",
   "metadata": {},
   "outputs": [],
   "source": [
    "# 상세 클래스 만들기\n",
    "class AndroidSmartPhone:\n",
    "    def send(self, message):\n",
    "        print(\"send a message via Android platform\")\n",
    "        \n",
    "class WidowsSmartphone:\n",
    "    def send(self, message):\n",
    "        print(\"send a message via Window Mobie platform\")\n",
    "        \n",
    "class IOSSmartphone:\n",
    "    def send(self, message):\n",
    "        print(\"send a message via ios platform\")"
   ]
  },
  {
   "cell_type": "code",
   "execution_count": 31,
   "id": "e40a46b0",
   "metadata": {},
   "outputs": [],
   "source": [
    "# 팩토리 클래스 만들기\n",
    "class SmartphoneFactory(object):\n",
    "    def __init__(self):\n",
    "        pass\n",
    "    \n",
    "    def create_smartphone(self, devicetype):\n",
    "        if devicetype == 'android':\n",
    "            smartphone = AndroidSmartPhone()\n",
    "        elif devicetype == 'window':\n",
    "            smartphone = WidowsSmartphone()\n",
    "        elif devicetype == 'ios':\n",
    "            smartphone = IOSSmartphone()\n",
    "        return smartphone"
   ]
  },
  {
   "cell_type": "code",
   "execution_count": 32,
   "id": "bc0f8df6",
   "metadata": {},
   "outputs": [
    {
     "name": "stdout",
     "output_type": "stream",
     "text": [
      "send a message via Android platform\n",
      "send a message via Window Mobie platform\n",
      "send a message via ios platform\n"
     ]
    }
   ],
   "source": [
    "# 팩토리 클래스로 실제 상세 객체 만들기\n",
    "smartphone_factory = SmartphoneFactory()\n",
    "message_sender1 = smartphone_factory.create_smartphone('android')\n",
    "message_sender1.send('hi')\n",
    "\n",
    "message_sender2 = smartphone_factory.create_smartphone('window')\n",
    "message_sender2.send('hello')\n",
    "\n",
    "message_sender3 = smartphone_factory.create_smartphone('ios')\n",
    "message_sender3.send('Are you there?')"
   ]
  }
 ],
 "metadata": {
  "kernelspec": {
   "display_name": "Python 3 (ipykernel)",
   "language": "python",
   "name": "python3"
  },
  "language_info": {
   "codemirror_mode": {
    "name": "ipython",
    "version": 3
   },
   "file_extension": ".py",
   "mimetype": "text/x-python",
   "name": "python",
   "nbconvert_exporter": "python",
   "pygments_lexer": "ipython3",
   "version": "3.9.9"
  },
  "varInspector": {
   "cols": {
    "lenName": 16,
    "lenType": 16,
    "lenVar": 40
   },
   "kernels_config": {
    "python": {
     "delete_cmd_postfix": "",
     "delete_cmd_prefix": "del ",
     "library": "var_list.py",
     "varRefreshCmd": "print(var_dic_list())"
    },
    "r": {
     "delete_cmd_postfix": ") ",
     "delete_cmd_prefix": "rm(",
     "library": "var_list.r",
     "varRefreshCmd": "cat(var_dic_list()) "
    }
   },
   "types_to_exclude": [
    "module",
    "function",
    "builtin_function_or_method",
    "instance",
    "_Feature"
   ],
   "window_display": false
  }
 },
 "nbformat": 4,
 "nbformat_minor": 5
}
